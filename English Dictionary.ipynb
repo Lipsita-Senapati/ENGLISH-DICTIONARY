{
 "cells": [
  {
   "cell_type": "code",
   "execution_count": 4,
   "metadata": {},
   "outputs": [],
   "source": [
    "import json\n",
    "data=json.load(open('D:\\Projects\\Dictionary using Python\\data.json'))"
   ]
  },
  {
   "cell_type": "code",
   "execution_count": 6,
   "metadata": {},
   "outputs": [
    {
     "name": "stdout",
     "output_type": "stream",
     "text": [
      "Help on function load in module json:\n",
      "\n",
      "load(fp, *, cls=None, object_hook=None, parse_float=None, parse_int=None, parse_constant=None, object_pairs_hook=None, **kw)\n",
      "    Deserialize ``fp`` (a ``.read()``-supporting file-like object containing\n",
      "    a JSON document) to a Python object.\n",
      "    \n",
      "    ``object_hook`` is an optional function that will be called with the\n",
      "    result of any object literal decode (a ``dict``). The return value of\n",
      "    ``object_hook`` will be used instead of the ``dict``. This feature\n",
      "    can be used to implement custom decoders (e.g. JSON-RPC class hinting).\n",
      "    \n",
      "    ``object_pairs_hook`` is an optional function that will be called with the\n",
      "    result of any object literal decoded with an ordered list of pairs.  The\n",
      "    return value of ``object_pairs_hook`` will be used instead of the ``dict``.\n",
      "    This feature can be used to implement custom decoders that rely on the\n",
      "    order that the key and value pairs are decoded (for example,\n",
      "    collections.OrderedDict will remember the order of insertion). If\n",
      "    ``object_hook`` is also defined, the ``object_pairs_hook`` takes priority.\n",
      "    \n",
      "    To use a custom ``JSONDecoder`` subclass, specify it with the ``cls``\n",
      "    kwarg; otherwise ``JSONDecoder`` is used.\n",
      "\n"
     ]
    }
   ],
   "source": [
    "help(json.load)"
   ]
  },
  {
   "cell_type": "code",
   "execution_count": 11,
   "metadata": {},
   "outputs": [
    {
     "name": "stdout",
     "output_type": "stream",
     "text": [
      "Help on function get_close_matches in module difflib:\n",
      "\n",
      "get_close_matches(word, possibilities, n=3, cutoff=0.6)\n",
      "    Use SequenceMatcher to return list of the best \"good enough\" matches.\n",
      "    \n",
      "    word is a sequence for which close matches are desired (typically a\n",
      "    string).\n",
      "    \n",
      "    possibilities is a list of sequences against which to match word\n",
      "    (typically a list of strings).\n",
      "    \n",
      "    Optional arg n (default 3) is the maximum number of close matches to\n",
      "    return.  n must be > 0.\n",
      "    \n",
      "    Optional arg cutoff (default 0.6) is a float in [0, 1].  Possibilities\n",
      "    that don't score at least that similar to word are ignored.\n",
      "    \n",
      "    The best (no more than n) matches among the possibilities are returned\n",
      "    in a list, sorted by similarity score, most similar first.\n",
      "    \n",
      "    >>> get_close_matches(\"appel\", [\"ape\", \"apple\", \"peach\", \"puppy\"])\n",
      "    ['apple', 'ape']\n",
      "    >>> import keyword as _keyword\n",
      "    >>> get_close_matches(\"wheel\", _keyword.kwlist)\n",
      "    ['while']\n",
      "    >>> get_close_matches(\"Apple\", _keyword.kwlist)\n",
      "    []\n",
      "    >>> get_close_matches(\"accept\", _keyword.kwlist)\n",
      "    ['except']\n",
      "\n"
     ]
    }
   ],
   "source": [
    "help(get_close_matches)"
   ]
  },
  {
   "cell_type": "code",
   "execution_count": 10,
   "metadata": {},
   "outputs": [],
   "source": [
    "import difflib\n",
    "from difflib import get_close_matches"
   ]
  },
  {
   "cell_type": "code",
   "execution_count": 19,
   "metadata": {},
   "outputs": [
    {
     "name": "stdout",
     "output_type": "stream",
     "text": [
      "ENTER YOUR WORD: rain\n",
      "Precipitation in the form of liquid water drops with diameters greater than 0.5 millimetres.\n",
      "To fall from the clouds in drops of water.\n"
     ]
    }
   ],
   "source": [
    "def translate(w):\n",
    "    w=w.lower()          #In our data all words are in lower case so to avoid case sensitivity issue\n",
    "    if w in data:\n",
    "        return(data[w])\n",
    "    if w.title() in data:  #make sure the program returns the definition of words that start with a capital letter (e.g. Delhi or Texas)\n",
    "        return(data[w.title()])\n",
    "    if w.upper() in data:  #make sure the program returns the definition of acronyms (e.g., USA or NATO.)\n",
    "        return(data[w.upper()])\n",
    "    elif len(get_close_matches(w,data.keys()))>0:\n",
    "        t= input(\"DO YOU WANT %s Instead? ENTER Y OR YES AND N FOR NO\" % get_close_matches(w,data.keys())[0])\n",
    "        if t==\"Y\":\n",
    "            return(get_close_matches(w,data.keys())[0])\n",
    "        elif t==\"N\":\n",
    "            return(\"THE WORD DOESN'T EXIST...PLEASE DOUBLE CHECK!!!!\")\n",
    "        else:\n",
    "            return(\"WE DIDNT UNDERSTAND WHAT YOU ARE LOOKING FOR!!!\")\n",
    "            \n",
    "    else:\n",
    "        return(\"THE WORD DOESN'T EXIST...PLEASE DOUBLE CHECK!!!!\")\n",
    "word= input(\"ENTER YOUR WORD: \")\n",
    "\n",
    "output = translate(word) # in order to have out put in string not as list\n",
    "if type(output) == list:\n",
    "    for item in output:\n",
    "        print(item)\n",
    "else:\n",
    "    print(output)"
   ]
  },
  {
   "cell_type": "code",
   "execution_count": null,
   "metadata": {},
   "outputs": [],
   "source": []
  }
 ],
 "metadata": {
  "kernelspec": {
   "display_name": "Python 3",
   "language": "python",
   "name": "python3"
  },
  "language_info": {
   "codemirror_mode": {
    "name": "ipython",
    "version": 3
   },
   "file_extension": ".py",
   "mimetype": "text/x-python",
   "name": "python",
   "nbconvert_exporter": "python",
   "pygments_lexer": "ipython3",
   "version": "3.6.5"
  }
 },
 "nbformat": 4,
 "nbformat_minor": 2
}
